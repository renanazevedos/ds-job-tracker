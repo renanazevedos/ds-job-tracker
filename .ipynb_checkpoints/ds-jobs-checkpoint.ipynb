{
 "cells": [
  {
   "cell_type": "markdown",
   "id": "77068b78-cb6d-4872-8ae2-02565b15facf",
   "metadata": {},
   "source": [
    "# 📊 LinkedIn Data Science Jobs Tracker  \n",
    "*por Renan*  \n",
    "\n",
    "**Objetivo**: Coletar vagas de Data Science em São Paulo diretamente do LinkedIn para análise de mercado.  \n",
    "**Tecnologias**: Python, BeautifulSoup, Requests, Pandas. "
   ]
  },
  {
   "cell_type": "code",
   "execution_count": 137,
   "id": "daf81d94-cfe8-4c22-a0fd-a5c44dca6c76",
   "metadata": {},
   "outputs": [],
   "source": [
    "#Bibliotecas utilizadas\n",
    "import requests\n",
    "from bs4 import BeautifulSoup\n",
    "import pandas as pd\n",
    "from time import sleep\n",
    "from IPython.display import clear_output  "
   ]
  },
  {
   "cell_type": "markdown",
   "id": "5c70c375-f0a7-40d9-9443-7f3bcb812ae4",
   "metadata": {},
   "source": [
    "## 🔍 Etapa 1: Coletar IDs de Vagas  \r\n",
    "O LinkedIn limita a 25 vagas por requisição. Esta função:  \r\n",
    "- Usa paginação (`start=0`, `start=25`, etc.)  \r\n",
    "- Evita bloqueios com `sleep(1)`  "
   ]
  },
  {
   "cell_type": "code",
   "execution_count": 139,
   "id": "8a644707-56a1-4575-b462-ea0c5afce0dd",
   "metadata": {},
   "outputs": [],
   "source": [
    "def coletar_job_ids(keyword, location, limit=50):\n",
    "    base_url = \"https://www.linkedin.com/jobs-guest/jobs/api/seeMoreJobPostings/search\"\n",
    "    job_ids = []\n",
    "    start = 0\n",
    "\n",
    "    while len(job_ids) < limit:\n",
    "        parametros_busca = {\"keywords\":keyword, \"location\":location, \"start\": start}\n",
    "        try:\n",
    "            response = requests.get(base_url, params=parametros_busca, timeout=10)\n",
    "            print(f\"URL da requisição: {response.url}\")\n",
    "\n",
    "            soup = BeautifulSoup(response.text, \"html.parser\")\n",
    "            jobs_list = soup.find_all(\"li\")\n",
    "            if not jobs_list:\n",
    "                print(\"Fim da busca de vagas!\")\n",
    "                break\n",
    "\n",
    "            for job_found in jobs_list:\n",
    "                job_id = job_found.find(\"div\", {\"class\": \"base-card\"}).get(\"data-entity-urn\", \"\").split(\":\")[-1]\n",
    "                \n",
    "                if job_id:\n",
    "                    job_ids.append(job_id)\n",
    "            start += 25  # Avança para a próxima página\n",
    "            sleep(1)  # Evita bloqueio\n",
    "\n",
    "        except Exception as e:\n",
    "            print(f\"Erro na requisição: {e}\")\n",
    "            break\n",
    "\n",
    "    return job_ids[:limit]"
   ]
  },
  {
   "cell_type": "code",
   "execution_count": 140,
   "id": "cb84e88f-332c-47af-851f-abb8d3a85f1b",
   "metadata": {},
   "outputs": [],
   "source": [
    "def coletar_job_detalhes(job_id):\n",
    "    url = f\"https://www.linkedin.com/jobs-guest/jobs/api/jobPosting/{job_id}\"\n",
    "\n",
    "    try:\n",
    "        response = requests.get(url, timeout=10)\n",
    "        soup = BeautifulSoup(response.text, \"html.parser\")\n",
    "\n",
    "\n",
    "        job_details = {\n",
    "            \"title\": soup.find(\"h2\", class_=\"top-card-layout__title\").get_text(strip=True) \n",
    "                    if soup.find(\"h2\", class_=\"top-card-layout__title\") else \"N/A\",\n",
    "            \"company\": soup.find(\"a\", class_=\"topcard__org-name-link\").get_text(strip=True) \n",
    "                    if soup.find(\"a\", class_=\"topcard__org-name-link\") else \"N/A\",\n",
    "            \"location\": soup.find(\"span\", class_=\"topcard__flavor--bullet\").get_text(strip=True) \n",
    "                    if soup.find(\"span\", class_=\"topcard__flavor--bullet\") else \"N/A\",\n",
    "            \"posted\": soup.find(\"span\", class_=\"posted-time-ago__text\").get_text(strip=True) \n",
    "                    if soup.find(\"span\", class_=\"posted-time-ago__text\") else \"N/A\",\n",
    "            \"applicants\": soup.find(\"span\", class_=\"num-applicants__figure\").get_text(strip=True) \n",
    "                    if soup.find(\"span\", class_=\"num-applicants__figure\") else \"N/A\",\n",
    "            \"work_mode\": \"Remote\" if \"remote\" in soup.get_text().lower() else \"On-site/Hybrid\",\n",
    "            \"link\": url\n",
    "        }\n",
    "        return job_details\n",
    "\n",
    "    except Exception as e:\n",
    "        print(f\"Erro ao processar vaga {job_id}: {e}\")\n",
    "        return None"
   ]
  },
  {
   "cell_type": "code",
   "execution_count": 141,
   "id": "9e1a473c-951b-40ae-9aff-f19d6e7dfd4c",
   "metadata": {},
   "outputs": [
    {
     "name": "stdout",
     "output_type": "stream",
     "text": [
      "URL da requisição: https://www.linkedin.com/jobs-guest/jobs/api/seeMoreJobPostings/search?keywords=Data+Science&location=S%C3%A3o+Paulo&start=0\n",
      "URL da requisição: https://www.linkedin.com/jobs-guest/jobs/api/seeMoreJobPostings/search?keywords=Data+Science&location=S%C3%A3o+Paulo&start=25\n",
      "URL da requisição: https://www.linkedin.com/jobs-guest/jobs/api/seeMoreJobPostings/search?keywords=Data+Science&location=S%C3%A3o+Paulo&start=50\n",
      "URL da requisição: https://www.linkedin.com/jobs-guest/jobs/api/seeMoreJobPostings/search?keywords=Data+Science&location=S%C3%A3o+Paulo&start=75\n",
      "URL da requisição: https://www.linkedin.com/jobs-guest/jobs/api/seeMoreJobPostings/search?keywords=Data+Science&location=S%C3%A3o+Paulo&start=100\n",
      "IDs coletados: ['4211914738', '4203679114', '4075021707', '4182696673', '4198275911', '4206454807', '4094546542', '4207125333', '4192619747', '4198283062', '4130559690', '4196165300', '4214840838', '4205994264', '4184918031', '4208855015', '4198283063', '4216741444', '4210131278', '4209193366', '4204931730', '4191620684', '4195187284', '4211752989', '4207342416', '4200567823', '4195261813', '4214490217', '4196469488', '4217643880', '4198895978', '4216849155', '4189814535', '4212442690', '3957740011', '4209526221', '4207129530', '4193642002', '4215177187', '4217403110', '4204561341', '4204730222', '4204647654', '4204665842', '4201333409', '4185227063', '4188776595', '4212693907', '4186013921', '4218755437']\n"
     ]
    }
   ],
   "source": [
    "job_ids = coletar_job_ids(\"Data Science\", \"São Paulo\")\n",
    "print(f\"IDs coletados: {job_ids}\")"
   ]
  },
  {
   "cell_type": "code",
   "execution_count": 142,
   "id": "098564e4-0fb1-457b-ba4d-872655962bbd",
   "metadata": {},
   "outputs": [
    {
     "name": "stdout",
     "output_type": "stream",
     "text": [
      "Progresso: 50/50 vagas processadas\n"
     ]
    }
   ],
   "source": [
    "jobs = []\n",
    "for i, job_id in enumerate(job_ids):\n",
    "    job = coletar_job_detalhes(job_id)\n",
    "    if job:\n",
    "        jobs.append(job)\n",
    "    sleep(1)  # Delay entre requisições\n",
    "    clear_output(wait=True)\n",
    "    print(f\"Progresso: {i+1}/{len(job_ids)} vagas processadas\")"
   ]
  },
  {
   "cell_type": "code",
   "execution_count": 144,
   "id": "7ad05f44-c278-4fbe-bf8f-6173df5f0924",
   "metadata": {},
   "outputs": [],
   "source": [
    "# Cria DataFrame\n",
    "df = pd.DataFrame(jobs)"
   ]
  },
  {
   "cell_type": "code",
   "execution_count": 146,
   "id": "9686abca-b5eb-42ad-8673-2bf5ce6d2e70",
   "metadata": {},
   "outputs": [
    {
     "data": {
      "text/html": [
       "<div>\n",
       "<style scoped>\n",
       "    .dataframe tbody tr th:only-of-type {\n",
       "        vertical-align: middle;\n",
       "    }\n",
       "\n",
       "    .dataframe tbody tr th {\n",
       "        vertical-align: top;\n",
       "    }\n",
       "\n",
       "    .dataframe thead th {\n",
       "        text-align: right;\n",
       "    }\n",
       "</style>\n",
       "<table border=\"1\" class=\"dataframe\">\n",
       "  <thead>\n",
       "    <tr style=\"text-align: right;\">\n",
       "      <th></th>\n",
       "      <th>title</th>\n",
       "      <th>company</th>\n",
       "      <th>location</th>\n",
       "      <th>posted</th>\n",
       "      <th>applicants</th>\n",
       "      <th>work_mode</th>\n",
       "      <th>link</th>\n",
       "    </tr>\n",
       "  </thead>\n",
       "  <tbody>\n",
       "    <tr>\n",
       "      <th>0</th>\n",
       "      <td>Programa de Estágio Pfizer 2025</td>\n",
       "      <td>Pfizer</td>\n",
       "      <td>São Paulo, São Paulo, Brazil</td>\n",
       "      <td>1 week ago</td>\n",
       "      <td>N/A</td>\n",
       "      <td>On-site/Hybrid</td>\n",
       "      <td>https://www.linkedin.com/jobs-guest/jobs/api/j...</td>\n",
       "    </tr>\n",
       "    <tr>\n",
       "      <th>1</th>\n",
       "      <td>Analista Estratégia e Inovação Jr</td>\n",
       "      <td>Azul Linhas Aéreas Brasileiras</td>\n",
       "      <td>Barueri, São Paulo, Brazil</td>\n",
       "      <td>2 weeks ago</td>\n",
       "      <td>N/A</td>\n",
       "      <td>On-site/Hybrid</td>\n",
       "      <td>https://www.linkedin.com/jobs-guest/jobs/api/j...</td>\n",
       "    </tr>\n",
       "    <tr>\n",
       "      <th>2</th>\n",
       "      <td>Faça sua Carreira de Design no Itaú 🚀🧡</td>\n",
       "      <td>Itaú Unibanco</td>\n",
       "      <td>São Paulo, São Paulo, Brazil</td>\n",
       "      <td>2 weeks ago</td>\n",
       "      <td>N/A</td>\n",
       "      <td>On-site/Hybrid</td>\n",
       "      <td>https://www.linkedin.com/jobs-guest/jobs/api/j...</td>\n",
       "    </tr>\n",
       "    <tr>\n",
       "      <th>3</th>\n",
       "      <td>Cientista de dados (S&amp;OP)</td>\n",
       "      <td>Shopee</td>\n",
       "      <td>São Paulo, São Paulo, Brazil</td>\n",
       "      <td>3 days ago</td>\n",
       "      <td>N/A</td>\n",
       "      <td>On-site/Hybrid</td>\n",
       "      <td>https://www.linkedin.com/jobs-guest/jobs/api/j...</td>\n",
       "    </tr>\n",
       "    <tr>\n",
       "      <th>4</th>\n",
       "      <td>Banco de Talentos - Business Analytics</td>\n",
       "      <td>XP Inc.</td>\n",
       "      <td>São Paulo, São Paulo, Brazil</td>\n",
       "      <td>6 days ago</td>\n",
       "      <td>N/A</td>\n",
       "      <td>On-site/Hybrid</td>\n",
       "      <td>https://www.linkedin.com/jobs-guest/jobs/api/j...</td>\n",
       "    </tr>\n",
       "  </tbody>\n",
       "</table>\n",
       "</div>"
      ],
      "text/plain": [
       "                                    title                         company  \\\n",
       "0         Programa de Estágio Pfizer 2025                          Pfizer   \n",
       "1       Analista Estratégia e Inovação Jr  Azul Linhas Aéreas Brasileiras   \n",
       "2  Faça sua Carreira de Design no Itaú 🚀🧡                   Itaú Unibanco   \n",
       "3               Cientista de dados (S&OP)                          Shopee   \n",
       "4  Banco de Talentos - Business Analytics                         XP Inc.   \n",
       "\n",
       "                       location       posted applicants       work_mode  \\\n",
       "0  São Paulo, São Paulo, Brazil   1 week ago        N/A  On-site/Hybrid   \n",
       "1    Barueri, São Paulo, Brazil  2 weeks ago        N/A  On-site/Hybrid   \n",
       "2  São Paulo, São Paulo, Brazil  2 weeks ago        N/A  On-site/Hybrid   \n",
       "3  São Paulo, São Paulo, Brazil   3 days ago        N/A  On-site/Hybrid   \n",
       "4  São Paulo, São Paulo, Brazil   6 days ago        N/A  On-site/Hybrid   \n",
       "\n",
       "                                                link  \n",
       "0  https://www.linkedin.com/jobs-guest/jobs/api/j...  \n",
       "1  https://www.linkedin.com/jobs-guest/jobs/api/j...  \n",
       "2  https://www.linkedin.com/jobs-guest/jobs/api/j...  \n",
       "3  https://www.linkedin.com/jobs-guest/jobs/api/j...  \n",
       "4  https://www.linkedin.com/jobs-guest/jobs/api/j...  "
      ]
     },
     "metadata": {},
     "output_type": "display_data"
    }
   ],
   "source": [
    "display(df.head()) "
   ]
  },
  {
   "cell_type": "code",
   "execution_count": null,
   "id": "c7abe633-2eaf-4c60-8982-6ac487ba0c5e",
   "metadata": {},
   "outputs": [],
   "source": [
    "df.to_csv(\"linkedin_datasciece_jobs.csv\", index=False, encoding=\"utf-8-sig\")\n",
    "print(\"Dados salvos em 'linkedin_datasciece_jobs.csv'\")"
   ]
  },
  {
   "cell_type": "code",
   "execution_count": null,
   "id": "6542542c-8d56-4fab-9b85-deedd1e3805a",
   "metadata": {},
   "outputs": [],
   "source": []
  },
  {
   "cell_type": "code",
   "execution_count": null,
   "id": "81519463-1e19-4e88-bd11-b53e2a9f75d3",
   "metadata": {},
   "outputs": [],
   "source": []
  },
  {
   "cell_type": "code",
   "execution_count": null,
   "id": "38724a9f-f4c4-440f-910a-e1cc48edf30c",
   "metadata": {},
   "outputs": [],
   "source": []
  },
  {
   "cell_type": "code",
   "execution_count": null,
   "id": "87f311ce-271a-48b6-9dbc-efec5eadff32",
   "metadata": {},
   "outputs": [],
   "source": []
  },
  {
   "cell_type": "code",
   "execution_count": null,
   "id": "cf158387-0c6b-45fa-8ac8-0296913ec328",
   "metadata": {},
   "outputs": [],
   "source": []
  },
  {
   "cell_type": "code",
   "execution_count": 80,
   "id": "ddf4356f-9b00-401e-8e53-9c95d44f95e0",
   "metadata": {},
   "outputs": [],
   "source": [
    "#para mudar o tamanho da lista, basta alterar o número ao fim do código para aumentar o tamanho da busca\n",
    "#jobs_jobs-search-bar_search-submit&start=\"25\"---> 25 vagas buscadas\n",
    "list_url = \"https://www.linkedin.com/jobs-guest/jobs/api/seeMoreJobPostings/search?keywords=Data%2BScientist&location=S%C3%A3o%2BPaulo%2C%2BS%C3%A3o%2BPaulo%2C%2BBrasil&geoId=104746682&trk=public_jobs_jobs-search-bar_search-submit&start=25\""
   ]
  },
  {
   "cell_type": "code",
   "execution_count": 81,
   "id": "85962c43-10fb-44e8-827f-b18a28746ffa",
   "metadata": {},
   "outputs": [],
   "source": [
    "list_data = requests.get(list_url).text"
   ]
  },
  {
   "cell_type": "code",
   "execution_count": 82,
   "id": "f6fe9c62-22ef-4239-b7b3-b47762f022e0",
   "metadata": {},
   "outputs": [
    {
     "data": {
      "text/plain": [
       "'<!DOCTYPE html>\\n\\n      <li>\\n        \\n    \\n\\n    \\n    \\n    \\n      <div class=\"base-card relative w-full hover:no-underline focus:no-underline base-card--link base-search-card base-search-card--link job-search-card\" data-entity-urn=\"urn:li:jobPosting:4161301056\" data-impression-id=\"jobs-search-result-0\" data-reference-id=\"w21qGT2QEm5sAQj079cwIg==\" data-tracking-id=\"ME0kOy2+rfCHDxZ8f4IKdA==\" data-column=\"1\" data-row=\"81\">\\n        \\n\\n        <a class=\"base-card__full-link absolute top-0 right-0 bottom-0 left-0 p-0 z-[2]\" href=\"https://br.linkedin.com/jobs/view/cientista-de-dados-pleno-s%C3%AAnior-at-accenture-brasil-4161301056?position=1&amp;pageNum=8&amp;refId=w21qGT2QEm5sAQj079cwIg%3D%3D&amp;trackingId=ME0kOy2%2BrfCHDxZ8f4IKdA%3D%3D\" data-tracking-control-name=\"public_jobs_jserp-result_search-card\" data-tracking-client-ingraph data-tracking-will-navigate>\\n          \\n          <span class=\"sr-only\">\\n              \\n        \\n        Cientista de Dados (Pleno/Sênior)\\n      \\n      \\n          </span>\\n        </a>\\n\\n      \\n        \\n    <div class=\"search-entity-media\">\\n        \\n      <img class=\"artdeco-entity-image artdeco-entity-image--square-4\\n          \" data-delayed-url=\"https://media.licdn.com/dms/image/v2/D4D0BAQFxYk90aqWMqA/company-logo_100_100/company-logo_100_100/0/1727873248436/accenturebrasil_logo?e=2147483647&amp;v=beta&amp;t=ram5z9D9OH9YAlrkTOCNc4Vcdxs8GuE83dwYgXarI7k\" data-ghost-classes=\"artdeco-entity-image--ghost\" data-ghost-url=\"https://static.licdn.com/aero-v1/sc/h/6puxblwmhnodu6fjircz4dn4h\" alt>\\n  \\n    </div>\\n  \\n\\n        <div class=\"base-search-card__info\">\\n          <h3 class=\"base-search-card__title\">\\n            \\n        Cientista de Dados (Pleno/Sênior)\\n      \\n          </h3>\\n\\n            <h4 class=\"base-search-card__subtitle\">\\n              \\n          <a class=\"hidden-nested-link\" data-tracking-client-ingraph data-tracking-control-name=\"public_jobs_jserp-result_job-search-card-subtitle\" data-tracking-will-navigate href=\"https://br.linkedin.com/company/accenturebrasil?trk=public_jobs_jserp-result_job-search-card-subtitle\">\\n            Accenture Brasil\\n          </a>\\n      \\n            </h4>\\n\\n<!---->\\n            <div class=\"base-search-card__metadata\">\\n              \\n          <span class=\"job-search-card__location\">\\n            São Paulo, São Paulo, Brazil\\n          </span>\\n\\n        \\n    \\n    \\n    \\n    \\n\\n      <div class=\"job-posting-benefits text-sm\">\\n        <icon class=\"job-posting-benefits__icon\" data-delayed-url=\"https://static.licdn.com/aero-v1/sc/h/3p1v0uhy7uq0cm5zdvzp4eo18\" data-svg-class-name=\"job-posting-benefits__icon-svg\"></icon>\\n        <span class=\"job-posting-benefits__text\">\\n          Actively Hiring\\n<!---->        </span>\\n      </div>\\n  \\n\\n          <time class=\"job-search-card__listdate\" datetime=\"2025-02-24\">\\n            \\n\\n    \\n    \\n    \\n    \\n    \\n    \\n    \\n    \\n    \\n    \\n    \\n    \\n    \\n    \\n    \\n    \\n\\n    \\n    \\n    \\n    \\n    \\n    \\n    \\n    \\n    \\n    \\n    \\n    \\n    \\n    \\n\\n      2 months ago\\n  \\n          </time>\\n\\n<!---->      \\n            </div>\\n        </div>\\n<!---->      \\n    \\n      </div>\\n  \\n  \\n  \\n  \\n      </li>\\n      <li>\\n        \\n    \\n\\n    \\n    \\n    \\n      <div class=\"base-card relative w-full hover:no-underline focus:no-underline base-card--link base-search-card base-search-card--link job-search-card\" data-entity-urn=\"urn:li:jobPosting:4217645670\" data-impression-id=\"jobs-search-result-1\" data-reference-id=\"w21qGT2QEm5sAQj079cwIg==\" data-tracking-id=\"OdUxx4Pj+F/Qkxw6s3nwKA==\" data-column=\"1\" data-row=\"82\">\\n        \\n\\n        <a class=\"base-card__full-link absolute top-0 right-0 bottom-0 left-0 p-0 z-[2]\" href=\"https://br.linkedin.com/jobs/view/cientista-de-dados-at-sciensa-4217645670?position=2&amp;pageNum=8&amp;refId=w21qGT2QEm5sAQj079cwIg%3D%3D&amp;trackingId=OdUxx4Pj%2BF%2FQkxw6s3nwKA%3D%3D\" data-tracking-control-name=\"public_jobs_jserp-result_search-card\" data-tracking-client-ingraph data-tracking-will-navigate>\\n          \\n          <span class=\"sr-only\">\\n              \\n        \\n        Cientista de dados\\n      \\n      \\n          </span>\\n        </a>\\n\\n      \\n        \\n    <div class=\"search-entity-media\">\\n        \\n      <img class=\"artdeco-entity-image artdeco-entity-image--square-4\\n          \" data-delayed-url=\"https://media.licdn.com/dms/image/v2/C4D0BAQHWsCP6r_oGJg/company-logo_100_100/company-logo_100_100/0/1663858492549/sciensa_logo?e=2147483647&amp;v=beta&amp;t=AJzWKN0Z64AcGcWuqsAKaffzQgi-GoYFhiE0BD2v-CY\" data-ghost-classes=\"artdeco-entity-image--ghost\" data-ghost-url=\"https://static.licdn.com/aero-v1/sc/h/6puxblwmhnodu6fjircz4dn4h\" alt>\\n  \\n    </div>\\n  \\n\\n        <div class=\"base-search-card__info\">\\n          <h3 class=\"base-search-card__title\">\\n            \\n        Cientista de dados\\n      \\n          </h3>\\n\\n            <h4 class=\"base-search-card__subtitle\">\\n              \\n          <a class=\"hidden-nested-link\" data-tracking-client-ingraph data-tracking-control-name=\"public_jobs_jserp-result_job-search-card-subtitle\" data-tracking-will-navigate href=\"https://br.linkedin.com/company/sciensa?trk=public_jobs_jserp-result_job-search-card-subtitle\">\\n            Sciensa\\n          </a>\\n      \\n            </h4>\\n\\n<!---->\\n            <div class=\"base-search-card__metadata\">\\n              \\n          <span class=\"job-search-card__location\">\\n            São Paulo, São Paulo, Brazil\\n          </span>\\n\\n        \\n    \\n    \\n    \\n    \\n\\n      <div class=\"job-posting-benefits text-sm\">\\n        <icon class=\"job-posting-benefits__icon\" data-delayed-url=\"https://static.licdn.com/aero-v1/sc/h/3p1v0uhy7uq0cm5zdvzp4eo18\" data-svg-class-name=\"job-posting-benefits__icon-svg\"></icon>\\n        <span class=\"job-posting-benefits__text\">\\n          Actively Hiring\\n<!---->        </span>\\n      </div>\\n  \\n\\n          <time class=\"job-search-card__listdate\" datetime=\"2025-04-25\">\\n            \\n\\n    \\n    \\n    \\n    \\n    \\n    \\n    \\n    \\n    \\n    \\n    \\n    \\n    \\n    \\n    \\n    \\n\\n    \\n    \\n    \\n    \\n    \\n    \\n    \\n    \\n    \\n    \\n    \\n    \\n    \\n    \\n\\n      3 days ago\\n  \\n          </time>\\n\\n<!---->      \\n            </div>\\n        </div>\\n<!---->      \\n    \\n      </div>\\n  \\n  \\n  \\n  \\n      </li>\\n      <li>\\n        \\n    \\n\\n    \\n    \\n    \\n      <div class=\"base-card relative w-full hover:no-underline focus:no-underline base-card--link base-search-card base-search-card--link job-search-card\" data-entity-urn=\"urn:li:jobPosting:4200986753\" data-impression-id=\"jobs-search-result-2\" data-reference-id=\"w21qGT2QEm5sAQj079cwIg==\" data-tracking-id=\"vz4E02h8aovjYrt+ClQaiw==\" data-column=\"1\" data-row=\"83\">\\n        \\n\\n        <a class=\"base-card__full-link absolute top-0 right-0 bottom-0 left-0 p-0 z-[2]\" href=\"https://br.linkedin.com/jobs/view/pessoa-cientista-de-dados-pleno-at-bt-cr%C3%A9ditos-4200986753?position=3&amp;pageNum=8&amp;refId=w21qGT2QEm5sAQj079cwIg%3D%3D&amp;trackingId=vz4E02h8aovjYrt%2BClQaiw%3D%3D\" data-tracking-control-name=\"public_jobs_jserp-result_search-card\" data-tracking-client-ingraph data-tracking-will-navigate>\\n          \\n          <span class=\"sr-only\">\\n              \\n        \\n        Pessoa Cientista de Dados Pleno\\n      \\n      \\n          </span>\\n        </a>\\n\\n      \\n        \\n    <div class=\"search-entity-media\">\\n        \\n      <img class=\"artdeco-entity-image artdeco-entity-image--square-4\\n          \" data-delayed-url=\"https://media.licdn.com/dms/image/v2/D4D0BAQHK0qEKZ70M3w/company-logo_100_100/company-logo_100_100/0/1729211094447/btcreditos_logo?e=2147483647&amp;v=beta&amp;t=vrZgY_rNsLU0tbLYl4JOZkGSWfj8co8dRLmjCTpKvKk\" data-ghost-classes=\"artdeco-entity-image--ghost\" data-ghost-url=\"https://static.licdn.com/aero-v1/sc/h/6puxblwmhnodu6fjircz4dn4h\" alt>\\n  \\n    </div>\\n  \\n\\n        <div class=\"base-search-card__info\">\\n          <h3 class=\"base-search-card__title\">\\n            \\n        Pessoa Cientista de Dados Pleno\\n      \\n          </h3>\\n\\n            <h4 class=\"base-search-card__subtitle\">\\n              \\n          <a class=\"hidden-nested-link\" data-tracking-client-ingraph data-tracking-control-name=\"public_jobs_jserp-result_job-search-card-subtitle\" data-tracking-will-navigate href=\"https://br.linkedin.com/company/btcreditos?trk=public_jobs_jserp-result_job-search-card-subtitle\">\\n            BT Créditos\\n          </a>\\n      \\n            </h4>\\n\\n<!---->\\n            <div class=\"base-search-card__metadata\">\\n              \\n          <span class=\"job-search-card__location\">\\n            São Paulo, São Paulo, Brazil\\n          </span>\\n\\n        \\n    \\n    \\n    \\n    \\n\\n      <div class=\"job-posting-benefits text-sm\">\\n        <icon class=\"job-posting-benefits__icon\" data-delayed-url=\"https://static.licdn.com/aero-v1/sc/h/8zmuwb93gzlb935fk4ao4z779\" data-svg-class-name=\"job-posting-benefits__icon-svg\"></icon>\\n        <span class=\"job-posting-benefits__text\">\\n          Be an early applicant\\n<!---->        </span>\\n      </div>\\n  \\n\\n          <time class=\"job-search-card__listdate\" datetime=\"2025-04-04\">\\n            \\n\\n    \\n    \\n    \\n    \\n    \\n    \\n    \\n    \\n    \\n    \\n    \\n    \\n    \\n    \\n    \\n    \\n\\n    \\n    \\n    \\n    \\n    \\n    \\n    \\n    \\n    \\n    \\n    \\n    \\n    \\n    \\n\\n      3 weeks ago\\n  \\n          </time>\\n\\n<!---->      \\n            </div>\\n        </div>\\n<!---->      \\n    \\n      </div>\\n  \\n  \\n  \\n  \\n      </li>\\n      <li>\\n        \\n    \\n\\n    \\n    \\n    \\n      <div class=\"base-card relative w-full hover:no-underline focus:no-underline base-card--link base-search-card base-search-card--link job-search-card\" data-entity-urn=\"urn:li:jobPosting:4216870350\" data-impression-id=\"jobs-search-result-3\" data-reference-id=\"w21qGT2QEm5sAQj079cwIg==\" data-tracking-id=\"o1Sxk8ZXU/paMEr5TaP1EQ==\" data-column=\"1\" data-row=\"84\">\\n        \\n\\n        <a class=\"base-card__full-link absolute top-0 right-0 bottom-0 left-0 p-0 z-[2]\" href=\"https://br.linkedin.com/jobs/view/engenheiro-de-intelig%C3%AAncia-artificial-at-innolevels-4216870350?position=4&amp;pageNum=8&amp;refId=w21qGT2QEm5sAQj079cwIg%3D%3D&amp;trackingId=o1Sxk8ZXU%2FpaMEr5TaP1EQ%3D%3D\" data-tracking-control-name=\"public_jobs_jserp-result_search-card\" data-tracking-client-ingraph data-tracking-will-navigate>\\n          \\n          <span class=\"sr-only\">\\n              \\n        \\n        Engenheiro de Inteligência Artificial\\n      \\n      \\n          </span>\\n        </a>\\n\\n      \\n        \\n    <div class=\"search-entity-media\">\\n        \\n      <img class=\"artdeco-entity-image artdeco-entity-image--square-4\\n          \" data-delayed-url=\"https://media.licdn.com/dms/image/v2/C4D0BAQHTJl0dF22boA/company-logo_100_100/company-logo_100_100/0/1662223622824/innolevels_logo?e=2147483647&amp;v=beta&amp;t=R9DaKYXReNP6SMqf1pTYZxjaRTXnA-xznrNkXFVAdz0\" data-ghost-classes=\"artdeco-entity-image--ghost\" data-ghost-url=\"https://static.licdn.com/aero-v1/sc/h/6puxblwmhnodu6fjircz4dn4h\" alt>\\n  \\n    </div>\\n  \\n\\n        <div class=\"base-search-card__info\">\\n          <h3 class=\"base-search-card__title\">\\n            \\n        Engenheiro de Inteligência Artificial\\n      \\n          </h3>\\n\\n            <h4 class=\"base-search-card__subtitle\">\\n              \\n          <a class=\"hidden-nested-link\" data-tracking-client-ingraph data-tracking-control-name=\"public_jobs_jserp-result_job-search-card-subtitle\" data-tracking-will-navigate href=\"https://br.linkedin.com/company/innolevels?trk=public_jobs_jserp-result_job-search-card-subtitle\">\\n            innolevels\\n          </a>\\n      \\n            </h4>\\n\\n<!---->\\n            <div class=\"base-search-card__metadata\">\\n              \\n          <span class=\"job-search-card__location\">\\n            Greater São Paulo Area\\n          </span>\\n\\n        \\n    \\n    \\n    \\n    \\n\\n      <div class=\"job-posting-benefits text-sm\">\\n        <icon class=\"job-posting-benefits__icon\" data-delayed-url=\"https://static.licdn.com/aero-v1/sc/h/8zmuwb93gzlb935fk4ao4z779\" data-svg-class-name=\"job-posting-benefits__icon-svg\"></icon>\\n        <span class=\"job-posting-benefits__text\">\\n          Be an early applicant\\n<!---->        </span>\\n      </div>\\n  \\n\\n          <time class=\"job-search-card__listdate--new\" datetime=\"2025-04-29\">\\n            \\n\\n    \\n    \\n    \\n    \\n    \\n    \\n    \\n    \\n    \\n    \\n    \\n    \\n    \\n    \\n    \\n    \\n\\n    \\n    \\n    \\n    \\n    \\n    \\n    \\n    \\n    \\n    \\n    \\n    \\n    \\n    \\n\\n      9 hours ago\\n  \\n          </time>\\n\\n<!---->      \\n            </div>\\n        </div>\\n<!---->      \\n    \\n      </div>\\n  \\n  \\n  \\n  \\n      </li>\\n      <li>\\n        \\n    \\n\\n    \\n    \\n    \\n      <div class=\"base-card relative w-full hover:no-underline focus:no-underline base-card--link base-search-card base-search-card--link job-search-card\" data-entity-urn=\"urn:li:jobPosting:4187892073\" data-impression-id=\"jobs-search-result-4\" data-reference-id=\"w21qGT2QEm5sAQj079cwIg==\" data-tracking-id=\"3T7bM5usHTrifarwzd092w==\" data-column=\"1\" data-row=\"85\">\\n        \\n\\n        <a class=\"base-card__full-link absolute top-0 right-0 bottom-0 left-0 p-0 z-[2]\" href=\"https://br.linkedin.com/jobs/view/cientista-de-dados-%E2%80%93-transforma%C3%A7%C3%A3o-digital-no-setor-financeiro%21-at-sciensa-4187892073?position=5&amp;pageNum=8&amp;refId=w21qGT2QEm5sAQj079cwIg%3D%3D&amp;trackingId=3T7bM5usHTrifarwzd092w%3D%3D\" data-tracking-control-name=\"public_jobs_jserp-result_search-card\" data-tracking-client-ingraph data-tracking-will-navigate>\\n          \\n          <span class=\"sr-only\">\\n              \\n        \\n        Cientista de Dados – Transformação Digital no Setor Financeiro!\\n      \\n      \\n          </span>\\n        </a>\\n\\n      \\n        \\n    <div class=\"search-entity-media\">\\n        \\n      <img class=\"artdeco-entity-image artdeco-entity-image--square-4\\n          \" data-delayed-url=\"https://media.licdn.com/dms/image/v2/C4D0BAQHWsCP6r_oGJg/company-logo_100_100/company-logo_100_100/0/1663858492549/sciensa_logo?e=2147483647&amp;v=beta&amp;t=AJzWKN0Z64AcGcWuqsAKaffzQgi-GoYFhiE0BD2v-CY\" data-ghost-classes=\"artdeco-entity-image--ghost\" data-ghost-url=\"https://static.licdn.com/aero-v1/sc/h/6puxblwmhnodu6fjircz4dn4h\" alt>\\n  \\n    </div>\\n  \\n\\n        <div class=\"base-search-card__info\">\\n          <h3 class=\"base-search-card__title\">\\n            \\n        Cientista de Dados – Transformação Digital no Setor Financeiro!\\n      \\n          </h3>\\n\\n            <h4 class=\"base-search-card__subtitle\">\\n              \\n          <a class=\"hidden-nested-link\" data-tracking-client-ingraph data-tracking-control-name=\"public_jobs_jserp-result_job-search-card-subtitle\" data-tracking-will-navigate href=\"https://br.linkedin.com/company/sciensa?trk=public_jobs_jserp-result_job-search-card-subtitle\">\\n            Sciensa\\n          </a>\\n      \\n            </h4>\\n\\n<!---->\\n            <div class=\"base-search-card__metadata\">\\n              \\n          <span class=\"job-search-card__location\">\\n            Greater São Paulo Area\\n          </span>\\n\\n        \\n    \\n    \\n    \\n    \\n\\n      <div class=\"job-posting-benefits text-sm\">\\n        <icon class=\"job-posting-benefits__icon\" data-delayed-url=\"https://static.licdn.com/aero-v1/sc/h/8zmuwb93gzlb935fk4ao4z779\" data-svg-class-name=\"job-posting-benefits__icon-svg\"></icon>\\n        <span class=\"job-posting-benefits__text\">\\n          Be an early applicant\\n<!---->        </span>\\n      </div>\\n  \\n\\n          <time class=\"job-search-card__listdate\" datetime=\"2025-03-18\">\\n            \\n\\n    \\n    \\n    \\n    \\n    \\n    \\n    \\n    \\n    \\n    \\n    \\n    \\n    \\n    \\n    \\n    \\n\\n    \\n    \\n    \\n    \\n    \\n    \\n    \\n    \\n    \\n    \\n    \\n    \\n    \\n    \\n\\n      1 month ago\\n  \\n          </time>\\n\\n<!---->      \\n            </div>\\n        </div>\\n<!---->      \\n    \\n      </div>\\n  \\n  \\n  \\n  \\n      </li>\\n      <li>\\n        \\n    \\n\\n    \\n    \\n    \\n      <div class=\"base-card relative w-full hover:no-underline focus:no-underline base-card--link base-search-card base-search-card--link job-search-card\" data-entity-urn=\"urn:li:jobPosting:4196915946\" data-impression-id=\"jobs-search-result-5\" data-reference-id=\"w21qGT2QEm5sAQj079cwIg==\" data-tracking-id=\"qlRvkHUS6x++zxP8Vm7T4w==\" data-column=\"1\" data-row=\"86\">\\n        \\n\\n        <a class=\"base-card__full-link absolute top-0 right-0 bottom-0 left-0 p-0 z-[2]\" href=\"https://br.linkedin.com/jobs/view/quality-assurance-engineers-all-levels-at-questrade-financial-group-4196915946?position=6&amp;pageNum=8&amp;refId=w21qGT2QEm5sAQj079cwIg%3D%3D&amp;trackingId=qlRvkHUS6x%2B%2BzxP8Vm7T4w%3D%3D\" data-tracking-control-name=\"public_jobs_jserp-result_search-card\" data-tracking-client-ingraph data-tracking-will-navigate>\\n          \\n          <span class=\"sr-only\">\\n              \\n        \\n        Quality Assurance Engineers All Levels\\n      \\n      \\n          </span>\\n        </a>\\n\\n      \\n        \\n    <div class=\"search-entity-media\">\\n        \\n      <img class=\"artdeco-entity-image artdeco-entity-image--square-4\\n          \" data-delayed-url=\"https://media.licdn.com/dms/image/v2/C560BAQGt4gxcYpHyqg/company-logo_100_100/company-logo_100_100/0/1630605917448/questrade_logo?e=2147483647&amp;v=beta&amp;t=_11TOI85a7o2r19AVsaAzUq-aX-VwAopFceKcMHiq_g\" data-ghost-classes=\"artdeco-entity-image--ghost\" data-ghost-url=\"https://static.licdn.com/aero-v1/sc/h/6puxblwmhnodu6fjircz4dn4h\" alt>\\n  \\n    </div>\\n  \\n\\n        <div class=\"base-search-card__info\">\\n          <h3 class=\"base-search-card__title\">\\n            \\n        Quality Assurance Engineers All Levels\\n      \\n          </h3>\\n\\n            <h4 class=\"base-search-card__subtitle\">\\n              \\n          <a class=\"hidden-nested-link\" data-tracking-client-ingraph data-tracking-control-name=\"public_jobs_jserp-result_job-search-card-subtitle\" data-tracking-will-navigate href=\"https://ca.linkedin.com/company/questrade?trk=public_jobs_jserp-result_job-search-card-subtitle\">\\n            Questrade Financial Group\\n          </a>\\n      \\n            </h4>\\n\\n<!---->\\n            <div class=\"base-search-card__metadata\">\\n              \\n          <span class=\"job-search-card__location\">\\n            Greater São Paulo Area\\n          </span>\\n\\n        \\n    \\n    \\n    \\n    \\n\\n      <div class=\"job-posting-benefits text-sm\">\\n        <icon class=\"job-posting-benefits__icon\" data-delayed-url=\"https://static.licdn.com/aero-v1/sc/h/8zmuwb93gzlb935fk4ao4z779\" data-svg-class-name=\"job-posting-benefits__icon-svg\"></icon>\\n        <span class=\"job-posting-benefits__text\">\\n          Be an early applicant\\n<!---->        </span>\\n      </div>\\n  \\n\\n          <time class=\"job-search-card__listdate\" datetime=\"2025-04-23\">\\n            \\n\\n    \\n    \\n    \\n    \\n    \\n    \\n    \\n    \\n    \\n    \\n    \\n    \\n    \\n    \\n    \\n    \\n\\n    \\n    \\n    \\n    \\n    \\n    \\n    \\n    \\n    \\n    \\n    \\n    \\n    \\n    \\n\\n      5 days ago\\n  \\n          </time>\\n\\n<!---->      \\n            </div>\\n        </div>\\n<!---->      \\n    \\n      </div>\\n  \\n  \\n  \\n  \\n      </li>\\n      <li>\\n        \\n    \\n\\n    \\n    \\n    \\n      <div class=\"base-card relative w-full hover:no-underline focus:no-underline base-card--link base-search-card base-search-card--link job-search-card\" data-entity-urn=\"urn:li:jobPosting:4150286242\" data-impression-id=\"jobs-search-result-6\" data-reference-id=\"w21qGT2QEm5sAQj079cwIg==\" data-tracking-id=\"f6UzLVoPAiRljtY7scV+nw==\" data-column=\"1\" data-row=\"87\">\\n        \\n\\n        <a class=\"base-card__full-link absolute top-0 right-0 bottom-0 left-0 p-0 z-[2]\" href=\"https://br.linkedin.com/jobs/view/analista-j%C3%BAnior-de-dados-preven%C3%A7%C3%A3o-%C3%A0-fraude-at-shopee-4150286242?position=7&amp;pageNum=8&amp;refId=w21qGT2QEm5sAQj079cwIg%3D%3D&amp;trackingId=f6UzLVoPAiRljtY7scV%2Bnw%3D%3D\" data-tracking-control-name=\"public_jobs_jserp-result_search-card\" data-tracking-client-ingraph data-tracking-will-navigate>\\n          \\n          <span class=\"sr-only\">\\n              \\n        \\n        Analista Júnior de Dados - Prevenção à Fraude\\n      \\n      \\n          </span>\\n        </a>\\n\\n      \\n        \\n    <div class=\"search-entity-media\">\\n        \\n      <img class=\"artdeco-entity-image artdeco-entity-image--square-4\\n          \" data-delayed-url=\"https://media.licdn.com/dms/image/v2/C560BAQE0iX_dgdH7nA/company-logo_100_100/company-logo_100_100/0/1672279162763/shopee_logo?e=2147483647&amp;v=beta&amp;t=SWHj8amyrLFDHnAHrTUM5qgh2VVhjOcjV2XdwgfwoFg\" data-ghost-classes=\"artdeco-entity-image--ghost\" data-ghost-url=\"https://static.licdn.com/aero-v1/sc/h/6puxblwmhnodu6fjircz4dn4h\" alt>\\n  \\n    </div>\\n  \\n\\n        <div class=\"base-search-card__info\">\\n          <h3 class=\"base-search-card__title\">\\n            \\n        Analista Júnior de Dados - Prevenção à Fraude\\n      \\n          </h3>\\n\\n            <h4 class=\"base-search-card__subtitle\">\\n              \\n          <a class=\"hidden-nested-link\" data-tracking-client-ingraph data-tracking-control-name=\"public_jobs_jserp-result_job-search-card-subtitle\" data-tracking-will-navigate href=\"https://sg.linkedin.com/company/shopee?trk=public_jobs_jserp-result_job-search-card-subtitle\">\\n            Shopee\\n          </a>\\n      \\n            </h4>\\n\\n<!---->\\n            <div class=\"base-search-card__metadata\">\\n              \\n          <span class=\"job-search-card__location\">\\n            São Paulo, São Paulo, Brazil\\n          </span>\\n\\n        \\n    \\n    \\n    \\n    \\n\\n      <div class=\"job-posting-benefits text-sm\">\\n        <icon class=\"job-posting-benefits__icon\" data-delayed-url=\"https://static.licdn.com/aero-v1/sc/h/3p1v0uhy7uq0cm5zdvzp4eo18\" data-svg-class-name=\"job-posting-benefits__icon-svg\"></icon>\\n        <span class=\"job-posting-benefits__text\">\\n          Actively Hiring\\n<!---->        </span>\\n      </div>\\n  \\n\\n          <time class=\"job-search-card__listdate\" datetime=\"2025-04-20\">\\n            \\n\\n    \\n    \\n    \\n    \\n    \\n    \\n    \\n    \\n    \\n    \\n    \\n    \\n    \\n    \\n    \\n    \\n\\n    \\n    \\n    \\n    \\n    \\n    \\n    \\n    \\n    \\n    \\n    \\n    \\n    \\n    \\n\\n      1 week ago\\n  \\n          </time>\\n\\n<!---->      \\n            </div>\\n        </div>\\n<!---->      \\n    \\n      </div>\\n  \\n  \\n  \\n  \\n      </li>\\n      <li>\\n        \\n    \\n\\n    \\n    \\n    \\n      <div class=\"base-card relative w-full hover:no-underline focus:no-underline base-card--link base-search-card base-search-card--link job-search-card\" data-entity-urn=\"urn:li:jobPosting:4204846444\" data-impression-id=\"jobs-search-result-7\" data-reference-id=\"w21qGT2QEm5sAQj079cwIg==\" data-tracking-id=\"wVuqeq3rHSMiBj+MdJPVPg==\" data-column=\"1\" data-row=\"88\">\\n        \\n\\n        <a class=\"base-card__full-link absolute top-0 right-0 bottom-0 left-0 p-0 z-[2]\" href=\"https://br.linkedin.com/jobs/view/expertise-em-programa%C3%A7%C3%A3o-para-treinamento-de-modelos-de-ia-at-outlier-4204846444?position=8&amp;pageNum=8&amp;refId=w21qGT2QEm5sAQj079cwIg%3D%3D&amp;trackingId=wVuqeq3rHSMiBj%2BMdJPVPg%3D%3D\" data-tracking-control-name=\"public_jobs_jserp-result_search-card\" data-tracking-client-ingraph data-tracking-will-navigate>\\n          \\n          <span class=\"sr-only\">\\n              \\n        \\n        Expertise em Programação para Treinamento de Modelos de IA\\n      \\n      \\n          </span>\\n        </a>\\n\\n      \\n        \\n    <div class=\"search-entity-media\">\\n        \\n      <img class=\"artdeco-entity-image artdeco-entity-image--square-4\\n          \" data-delayed-url=\"https://media.licdn.com/dms/image/v2/D560BAQHgroLObq3Vow/company-logo_100_100/company-logo_100_100/0/1684958729104?e=2147483647&amp;v=beta&amp;t=NdzvAlKs1uTcsVk3zR0oehQJasJFE6acldTA76CekDY\" data-ghost-classes=\"artdeco-entity-image--ghost\" data-ghost-url=\"https://static.licdn.com/aero-v1/sc/h/6puxblwmhnodu6fjircz4dn4h\" alt>\\n  \\n    </div>\\n  \\n\\n        <div class=\"base-search-card__info\">\\n          <h3 class=\"base-search-card__title\">\\n            \\n        Expertise em Programação para Treinamento de Modelos de IA\\n      \\n          </h3>\\n\\n            <h4 class=\"base-search-card__subtitle\">\\n              \\n          <a class=\"hidden-nested-link\" data-tracking-client-ingraph data-tracking-control-name=\"public_jobs_jserp-result_job-search-card-subtitle\" data-tracking-will-navigate href=\"https://www.linkedin.com/company/try-outlier?trk=public_jobs_jserp-result_job-search-card-subtitle\">\\n            Outlier\\n          </a>\\n      \\n            </h4>\\n\\n<!---->\\n            <div class=\"base-search-card__metadata\">\\n              \\n          <span class=\"job-search-card__location\">\\n            São Paulo, São Paulo, Brazil\\n          </span>\\n\\n        \\n    \\n    \\n    \\n    \\n\\n      <div class=\"job-posting-benefits text-sm\">\\n        <icon class=\"job-posting-benefits__icon\" data-delayed-url=\"https://static.licdn.com/aero-v1/sc/h/8zmuwb93gzlb935fk4ao4z779\" data-svg-class-name=\"job-posting-benefits__icon-svg\"></icon>\\n        <span class=\"job-posting-benefits__text\">\\n          Be an early applicant\\n<!---->        </span>\\n      </div>\\n  \\n\\n          <time class=\"job-search-card__listdate\" datetime=\"2025-04-09\">\\n            \\n\\n    \\n    \\n    \\n    \\n    \\n    \\n    \\n    \\n    \\n    \\n    \\n    \\n    \\n    \\n    \\n    \\n\\n    \\n    \\n    \\n    \\n    \\n    \\n    \\n    \\n    \\n    \\n    \\n    \\n    \\n    \\n\\n      2 weeks ago\\n  \\n          </time>\\n\\n<!---->      \\n            </div>\\n        </div>\\n<!---->      \\n    \\n      </div>\\n  \\n  \\n  \\n  \\n      </li>\\n      <li>\\n        \\n    \\n\\n    \\n    \\n    \\n      <div class=\"base-card relative w-full hover:no-underline focus:no-underline base-card--link base-search-card base-search-card--link job-search-card\" data-entity-urn=\"urn:li:jobPosting:4174679789\" data-impression-id=\"jobs-search-result-8\" data-reference-id=\"w21qGT2QEm5sAQj079cwIg==\" data-tracking-id=\"NIWIeRENrfTXwzGJ6rjRFw==\" data-column=\"1\" data-row=\"89\">\\n        \\n\\n        <a class=\"base-card__full-link absolute top-0 right-0 bottom-0 left-0 p-0 z-[2]\" href=\"https://br.linkedin.com/jobs/view/senior-data-scientist-at-topsort-4174679789?position=9&amp;pageNum=8&amp;refId=w21qGT2QEm5sAQj079cwIg%3D%3D&amp;trackingId=NIWIeRENrfTXwzGJ6rjRFw%3D%3D\" data-tracking-control-name=\"public_jobs_jserp-result_search-card\" data-tracking-client-ingraph data-tracking-will-navigate>\\n          \\n          <span class=\"sr-only\">\\n              \\n        \\n        Senior Data Scientist\\n      \\n      \\n          </span>\\n        </a>\\n\\n      \\n        \\n    <div class=\"search-entity-media\">\\n        \\n      <img class=\"artdeco-entity-image artdeco-entity-image--square-4\\n          \" data-delayed-url=\"https://media.licdn.com/dms/image/v2/D4E0BAQHRvac9Q6igzA/company-logo_100_100/B4EZZoZvJfHkAQ-/0/1745508299722/topsort_logo?e=2147483647&amp;v=beta&amp;t=0nvto5v92jxqiwzhxCJT7t8WssOKtK0TM5X_wr8xIkw\" data-ghost-classes=\"artdeco-entity-image--ghost\" data-ghost-url=\"https://static.licdn.com/aero-v1/sc/h/6puxblwmhnodu6fjircz4dn4h\" alt>\\n  \\n    </div>\\n  \\n\\n        <div class=\"base-search-card__info\">\\n          <h3 class=\"base-search-card__title\">\\n            \\n        Senior Data Scientist\\n      \\n          </h3>\\n\\n            <h4 class=\"base-search-card__subtitle\">\\n              \\n          <a class=\"hidden-nested-link\" data-tracking-client-ingraph data-tracking-control-name=\"public_jobs_jserp-result_job-search-card-subtitle\" data-tracking-will-navigate href=\"https://www.linkedin.com/company/topsort?trk=public_jobs_jserp-result_job-search-card-subtitle\">\\n            Topsort\\n          </a>\\n      \\n            </h4>\\n\\n<!---->\\n            <div class=\"base-search-card__metadata\">\\n              \\n          <span class=\"job-search-card__location\">\\n            São Paulo, São Paulo, Brazil\\n          </span>\\n\\n        \\n    \\n    \\n    \\n    \\n\\n<!---->  \\n\\n          <time class=\"job-search-card__listdate\" datetime=\"2025-03-03\">\\n            \\n\\n    \\n    \\n    \\n    \\n    \\n    \\n    \\n    \\n    \\n    \\n    \\n    \\n    \\n    \\n    \\n    \\n\\n    \\n    \\n    \\n    \\n    \\n    \\n    \\n    \\n    \\n    \\n    \\n    \\n    \\n    \\n\\n      1 month ago\\n  \\n          </time>\\n\\n<!---->      \\n            </div>\\n        </div>\\n<!---->      \\n    \\n      </div>\\n  \\n  \\n  \\n  \\n      </li>\\n      <li>\\n        \\n    \\n\\n    \\n    \\n    \\n      <div class=\"base-card relative w-full hover:no-underline focus:no-underline base-card--link base-search-card base-search-card--link job-search-card\" data-entity-urn=\"urn:li:jobPosting:4218686760\" data-impression-id=\"jobs-search-result-9\" data-reference-id=\"w21qGT2QEm5sAQj079cwIg==\" data-tracking-id=\"mqpCjZYDmidy6SqhTMdsVA==\" data-column=\"1\" data-row=\"90\">\\n        \\n\\n        <a class=\"base-card__full-link absolute top-0 right-0 bottom-0 left-0 p-0 z-[2]\" href=\"https://br.linkedin.com/jobs/view/cientista-de-dados-at-ti-inc-4218686760?position=10&amp;pageNum=8&amp;refId=w21qGT2QEm5sAQj079cwIg%3D%3D&amp;trackingId=mqpCjZYDmidy6SqhTMdsVA%3D%3D\" data-tracking-control-name=\"public_jobs_jserp-result_search-card\" data-tracking-client-ingraph data-tracking-will-navigate>\\n          \\n          <span class=\"sr-only\">\\n              \\n        \\n        Cientista de Dados\\n      \\n      \\n          </span>\\n        </a>\\n\\n      \\n        \\n    <div class=\"search-entity-media\">\\n        \\n      <img class=\"artdeco-entity-image artdeco-entity-image--square-4\\n          \" data-delayed-url=\"https://media.licdn.com/dms/image/v2/C510BAQEmF-3uKXfh5A/company-logo_100_100/company-logo_100_100/0/1630565619744?e=2147483647&amp;v=beta&amp;t=l-PqN42wfyKbMlT5xTej9yDzj6EwzrAw09Kil4zV3Fs\" data-ghost-classes=\"artdeco-entity-image--ghost\" data-ghost-url=\"https://static.licdn.com/aero-v1/sc/h/6puxblwmhnodu6fjircz4dn4h\" alt>\\n  \\n    </div>\\n  \\n\\n        <div class=\"base-search-card__info\">\\n          <h3 class=\"base-search-card__title\">\\n            \\n        Cientista de Dados\\n      \\n          </h3>\\n\\n            <h4 class=\"base-search-card__subtitle\">\\n              \\n          <a class=\"hidden-nested-link\" data-tracking-client-ingraph data-tracking-control-name=\"public_jobs_jserp-result_job-search-card-subtitle\" data-tracking-will-navigate href=\"https://jp.linkedin.com/company/ti-inc?trk=public_jobs_jserp-result_job-search-card-subtitle\">\\n            ti inc.\\n          </a>\\n      \\n            </h4>\\n\\n<!---->\\n            <div class=\"base-search-card__metadata\">\\n              \\n          <span class=\"job-search-card__location\">\\n            Greater São Paulo Area\\n          </span>\\n\\n        \\n    \\n    \\n    \\n    \\n\\n<!---->  \\n\\n          <time class=\"job-search-card__listdate\" datetime=\"2025-04-28\">\\n            \\n\\n    \\n    \\n    \\n    \\n    \\n    \\n    \\n    \\n    \\n    \\n    \\n    \\n    \\n    \\n    \\n    \\n\\n    \\n    \\n    \\n    \\n    \\n    \\n    \\n    \\n    \\n    \\n    \\n    \\n    \\n    \\n\\n      1 day ago\\n  \\n          </time>\\n\\n<!---->      \\n            </div>\\n        </div>\\n<!---->      \\n    \\n      </div>\\n  \\n  \\n  \\n  \\n      </li>\\n  '"
      ]
     },
     "execution_count": 82,
     "metadata": {},
     "output_type": "execute_result"
    }
   ],
   "source": [
    "list_data"
   ]
  },
  {
   "cell_type": "code",
   "execution_count": 83,
   "id": "75a46d99-05f8-4488-8eb0-000d37dc47f1",
   "metadata": {},
   "outputs": [],
   "source": [
    "list_soup = BeautifulSoup(list_data, \"html5lib\")"
   ]
  },
  {
   "cell_type": "code",
   "execution_count": 84,
   "id": "3e613374-b2fe-4f2d-a242-912e3075af23",
   "metadata": {},
   "outputs": [],
   "source": [
    "job_page = list_soup.find_all(\"li\")"
   ]
  },
  {
   "cell_type": "code",
   "execution_count": 85,
   "id": "f7453cac-2031-48ba-be84-50c5383c3ce5",
   "metadata": {},
   "outputs": [],
   "source": [
    "id_jobs_list = []\n",
    "for job in job_page:\n",
    "    base_card_div = job.find(\"div\", {\"class\":\"base-card\"})\n",
    "    job_id = base_card_div.get(\"data-entity-urn\").split(\":\")[3]\n",
    "    id_jobs_list.append(job_id)"
   ]
  },
  {
   "cell_type": "code",
   "execution_count": 86,
   "id": "d370e8c8-c18c-4c00-b83f-a504ed8ae5fe",
   "metadata": {},
   "outputs": [],
   "source": [
    "job_list = []\n",
    "\n",
    "for job_id in id_jobs_list:\n",
    "    job_url = f\"https://www.linkedin.com/jobs-guest/jobs/api/jobPosting/{job_id}\"\n",
    "    job_response = requests.get(job_url)\n",
    "    job_soup = BeautifulSoup(job_response.text, \"html.parser\")\n",
    "    job_post = {}\n",
    "\n",
    "    try:\n",
    "        job_post[\"job_title\"] = job_soup.find(\"h2\", {\"class\": \"top-card-layout__title font-sans text-lg papabear:text-xl font-bold leading-open text-color-text mb-0 topcard__title\"}).text.strip()\n",
    "    except:\n",
    "        job_post[\"job_title\"] =None\n",
    "    try:\n",
    "        job_post[\"company_name\"]= job_soup.find(\"a\", {\"class\": \"topcard__org-name-link topcard__flavor--black-link\"}).text.strip()\n",
    "    except:\n",
    "        job_post[\"company_name\"]=None\n",
    "    try:\n",
    "        job_post[\"time_posted\"]= job_soup.find(\"span\", {\"class\": \"posted-time-ago__text topcard__flavor--metadata\"}).text.strip()\n",
    "    except:\n",
    "        job_post[\"time_posted\"]=None\n",
    "    try:\n",
    "        job_post[\"applicants_number\"]= job_soup.find(\"span\", {\"class\": \"num-applicants__figure topcard__flavor--metadata topcard__flavor--bullet\"}).text.strip()\n",
    "    except:\n",
    "        job_post[\"applicants_number\"]=None\n",
    "\n",
    "    job_list.append(job_post)\n",
    "    "
   ]
  },
  {
   "cell_type": "code",
   "execution_count": 87,
   "id": "0751f6be-813b-4a93-9b9b-8c78406b35d6",
   "metadata": {},
   "outputs": [
    {
     "data": {
      "text/plain": [
       "[{'job_title': 'Vem ser Ituber – Oportunidades direcionadas para Mulheres na Tecnologia 💪🏽',\n",
       "  'company_name': 'Itaú Unibanco',\n",
       "  'time_posted': '4 days ago',\n",
       "  'applicants_number': None},\n",
       " {'job_title': 'Data Scientist Sr',\n",
       "  'company_name': 'Banco Bradesco',\n",
       "  'time_posted': '2 weeks ago',\n",
       "  'applicants_number': None},\n",
       " {'job_title': 'Cientista de dados',\n",
       "  'company_name': 'Outly',\n",
       "  'time_posted': '2 weeks ago',\n",
       "  'applicants_number': None},\n",
       " {'job_title': 'Especialista Cientista de Dados II',\n",
       "  'company_name': 'Serasa Experian',\n",
       "  'time_posted': '3 days ago',\n",
       "  'applicants_number': None},\n",
       " {'job_title': 'Cientista de Dados - Python Jr - SP',\n",
       "  'company_name': 'innolevels',\n",
       "  'time_posted': '4 days ago',\n",
       "  'applicants_number': None},\n",
       " {'job_title': 'Data Scientist Sr',\n",
       "  'company_name': 'Banco Bradesco',\n",
       "  'time_posted': '3 days ago',\n",
       "  'applicants_number': None},\n",
       " {'job_title': 'Data Scientist, Research, Search Quality Trust (English, Portuguese)',\n",
       "  'company_name': 'Google',\n",
       "  'time_posted': '3 days ago',\n",
       "  'applicants_number': None},\n",
       " {'job_title': 'Data Scientist',\n",
       "  'company_name': 'BrandLovers',\n",
       "  'time_posted': '3 weeks ago',\n",
       "  'applicants_number': None},\n",
       " {'job_title': 'Data Scientist Specialist - Vaga Afirmativa para Mulheres',\n",
       "  'company_name': 'iFood',\n",
       "  'time_posted': '2 weeks ago',\n",
       "  'applicants_number': None},\n",
       " {'job_title': 'Data Scientist',\n",
       "  'company_name': 'Enter (formerly Talisman)',\n",
       "  'time_posted': '2 weeks ago',\n",
       "  'applicants_number': None}]"
      ]
     },
     "execution_count": 87,
     "metadata": {},
     "output_type": "execute_result"
    }
   ],
   "source": [
    "job_list"
   ]
  },
  {
   "cell_type": "code",
   "execution_count": 89,
   "id": "28391378-163e-4ed5-8ee2-2bed2c3a4470",
   "metadata": {},
   "outputs": [
    {
     "data": {
      "text/html": [
       "<div>\n",
       "<style scoped>\n",
       "    .dataframe tbody tr th:only-of-type {\n",
       "        vertical-align: middle;\n",
       "    }\n",
       "\n",
       "    .dataframe tbody tr th {\n",
       "        vertical-align: top;\n",
       "    }\n",
       "\n",
       "    .dataframe thead th {\n",
       "        text-align: right;\n",
       "    }\n",
       "</style>\n",
       "<table border=\"1\" class=\"dataframe\">\n",
       "  <thead>\n",
       "    <tr style=\"text-align: right;\">\n",
       "      <th></th>\n",
       "      <th>job_title</th>\n",
       "      <th>company_name</th>\n",
       "      <th>time_posted</th>\n",
       "      <th>applicants_number</th>\n",
       "    </tr>\n",
       "  </thead>\n",
       "  <tbody>\n",
       "    <tr>\n",
       "      <th>0</th>\n",
       "      <td>Vem ser Ituber – Oportunidades direcionadas pa...</td>\n",
       "      <td>Itaú Unibanco</td>\n",
       "      <td>4 days ago</td>\n",
       "      <td>None</td>\n",
       "    </tr>\n",
       "    <tr>\n",
       "      <th>1</th>\n",
       "      <td>Data Scientist Sr</td>\n",
       "      <td>Banco Bradesco</td>\n",
       "      <td>2 weeks ago</td>\n",
       "      <td>None</td>\n",
       "    </tr>\n",
       "    <tr>\n",
       "      <th>2</th>\n",
       "      <td>Cientista de dados</td>\n",
       "      <td>Outly</td>\n",
       "      <td>2 weeks ago</td>\n",
       "      <td>None</td>\n",
       "    </tr>\n",
       "    <tr>\n",
       "      <th>3</th>\n",
       "      <td>Especialista Cientista de Dados II</td>\n",
       "      <td>Serasa Experian</td>\n",
       "      <td>3 days ago</td>\n",
       "      <td>None</td>\n",
       "    </tr>\n",
       "    <tr>\n",
       "      <th>4</th>\n",
       "      <td>Cientista de Dados - Python Jr - SP</td>\n",
       "      <td>innolevels</td>\n",
       "      <td>4 days ago</td>\n",
       "      <td>None</td>\n",
       "    </tr>\n",
       "    <tr>\n",
       "      <th>5</th>\n",
       "      <td>Data Scientist Sr</td>\n",
       "      <td>Banco Bradesco</td>\n",
       "      <td>3 days ago</td>\n",
       "      <td>None</td>\n",
       "    </tr>\n",
       "    <tr>\n",
       "      <th>6</th>\n",
       "      <td>Data Scientist, Research, Search Quality Trust...</td>\n",
       "      <td>Google</td>\n",
       "      <td>3 days ago</td>\n",
       "      <td>None</td>\n",
       "    </tr>\n",
       "    <tr>\n",
       "      <th>7</th>\n",
       "      <td>Data Scientist</td>\n",
       "      <td>BrandLovers</td>\n",
       "      <td>3 weeks ago</td>\n",
       "      <td>None</td>\n",
       "    </tr>\n",
       "    <tr>\n",
       "      <th>8</th>\n",
       "      <td>Data Scientist Specialist - Vaga Afirmativa pa...</td>\n",
       "      <td>iFood</td>\n",
       "      <td>2 weeks ago</td>\n",
       "      <td>None</td>\n",
       "    </tr>\n",
       "    <tr>\n",
       "      <th>9</th>\n",
       "      <td>Data Scientist</td>\n",
       "      <td>Enter (formerly Talisman)</td>\n",
       "      <td>2 weeks ago</td>\n",
       "      <td>None</td>\n",
       "    </tr>\n",
       "  </tbody>\n",
       "</table>\n",
       "</div>"
      ],
      "text/plain": [
       "                                           job_title  \\\n",
       "0  Vem ser Ituber – Oportunidades direcionadas pa...   \n",
       "1                                  Data Scientist Sr   \n",
       "2                                 Cientista de dados   \n",
       "3                 Especialista Cientista de Dados II   \n",
       "4                Cientista de Dados - Python Jr - SP   \n",
       "5                                  Data Scientist Sr   \n",
       "6  Data Scientist, Research, Search Quality Trust...   \n",
       "7                                     Data Scientist   \n",
       "8  Data Scientist Specialist - Vaga Afirmativa pa...   \n",
       "9                                     Data Scientist   \n",
       "\n",
       "                company_name  time_posted applicants_number  \n",
       "0              Itaú Unibanco   4 days ago              None  \n",
       "1             Banco Bradesco  2 weeks ago              None  \n",
       "2                      Outly  2 weeks ago              None  \n",
       "3            Serasa Experian   3 days ago              None  \n",
       "4                 innolevels   4 days ago              None  \n",
       "5             Banco Bradesco   3 days ago              None  \n",
       "6                     Google   3 days ago              None  \n",
       "7                BrandLovers  3 weeks ago              None  \n",
       "8                      iFood  2 weeks ago              None  \n",
       "9  Enter (formerly Talisman)  2 weeks ago              None  "
      ]
     },
     "execution_count": 89,
     "metadata": {},
     "output_type": "execute_result"
    }
   ],
   "source": [
    "df = pd.DataFrame(job_list)\n",
    "df"
   ]
  },
  {
   "cell_type": "code",
   "execution_count": 91,
   "id": "c4ba1015-c66f-4f9c-a888-d182414a2a73",
   "metadata": {},
   "outputs": [],
   "source": [
    "df.to_csv(\"ds-jobs.csv\", header = None)"
   ]
  }
 ],
 "metadata": {
  "kernelspec": {
   "display_name": "Python 3 (ipykernel)",
   "language": "python",
   "name": "python3"
  },
  "language_info": {
   "codemirror_mode": {
    "name": "ipython",
    "version": 3
   },
   "file_extension": ".py",
   "mimetype": "text/x-python",
   "name": "python",
   "nbconvert_exporter": "python",
   "pygments_lexer": "ipython3",
   "version": "3.12.4"
  }
 },
 "nbformat": 4,
 "nbformat_minor": 5
}
