{
 "cells": [
  {
   "cell_type": "markdown",
   "id": "63d996cc-eccf-4f5d-b2c2-49f534ecc7b1",
   "metadata": {},
   "source": [
    "# Análise e Clusterização de Vagas de Data Science do LinkedIn\n",
    "*por Renan*  \n",
    "\n",
    "Este notebook realiza a clusterização dos títulos e descrições das vagas obtidas pelo scraping de vagas de Data Science no LinkedIn.\n",
    "\n",
    "## Objetivos\n",
    "\n",
    "- Vetorizar os textos usando TF-IDF para representar a importância dos termos.\n",
    "- Reduzir a dimensionalidade dos dados vetorizados com UMAP para facilitar a clusterização.\n",
    "- Agrupar as vagas em clusters temáticos com o algoritmo KMeans.\n",
    "- Extrair os principais termos que caracterizam cada cluster.\n",
    "- Salvar os resultados para uso em um dashboard interativo (ex.: Streamlit).\n",
    "\n",
    "## Tecnologias e Bibliotecas\n",
    "- Python 3.x\n",
    "- Pandas (manipulação e análise de dados)\n",
    "- NumPy (operações numéricas)\n",
    "- Scikit-learn\n",
    "  - TfidfVectorizer (vetorização de texto)\n",
    "  - KMeans (clusterização)\n",
    "  - silhouette_score (avaliação dos clusters)\n",
    "  - TruncatedSVD (redução de dimensionalidade)\n",
    "- UMAP (redução de dimensionalidade e visualização)\n",
    "- spaCy (pré-processamento de texto, tokenização e lematização)\n",
    "- NLTK (stopwords e recursos de NLP)\n",
    "- Matplotlib e Seaborn (visualização de dados)\n",
    "- JSON (armazenamento e leitura de dados estruturados)\n",
    "- os e pathlib (manipulação de arquivos eiretórios)\n",
    "- clusters\n",
    "---\n",
    "\n",
    "Este notebook é parte de um projeto pessoal para explorar vagas de Data Science e pode ser utilizado como base para dashboards ou aplicações web interativas.\n"
   ]
  },
  {
   "cell_type": "code",
   "execution_count": 1,
   "id": "e0eb996e-0ad8-403e-be83-93f5978a9f2b",
   "metadata": {},
   "outputs": [],
   "source": [
    "# Bibliotecas\n",
    "import pandas as pd\n",
    "import numpy as np\n",
    "import os\n",
    "import matplotlib.pyplot as plt\n",
    "import seaborn as sns\n",
    "\n",
    "from sklearn.feature_extraction.text import TfidfVectorizer\n",
    "from sklearn.cluster import KMeans\n",
    "from sklearn.metrics import silhouette_score\n",
    "import nltk\n",
    "from nltk.corpus import stopwords\n",
    "import spacy\n",
    "import umap.umap_ as umap\n",
    "import json"
   ]
  },
  {
   "cell_type": "code",
   "execution_count": 2,
   "id": "24b7ca8e-98b5-4d1a-b7b2-7f33c682068a",
   "metadata": {
    "scrolled": true
   },
   "outputs": [
    {
     "data": {
      "text/html": [
       "<div>\n",
       "<style scoped>\n",
       "    .dataframe tbody tr th:only-of-type {\n",
       "        vertical-align: middle;\n",
       "    }\n",
       "\n",
       "    .dataframe tbody tr th {\n",
       "        vertical-align: top;\n",
       "    }\n",
       "\n",
       "    .dataframe thead th {\n",
       "        text-align: right;\n",
       "    }\n",
       "</style>\n",
       "<table border=\"1\" class=\"dataframe\">\n",
       "  <thead>\n",
       "    <tr style=\"text-align: right;\">\n",
       "      <th></th>\n",
       "      <th>title</th>\n",
       "      <th>company</th>\n",
       "      <th>location</th>\n",
       "      <th>posted</th>\n",
       "      <th>description</th>\n",
       "      <th>applicants</th>\n",
       "      <th>work_mode</th>\n",
       "      <th>link</th>\n",
       "      <th>data_coleta</th>\n",
       "    </tr>\n",
       "  </thead>\n",
       "  <tbody>\n",
       "    <tr>\n",
       "      <th>0</th>\n",
       "      <td>Consultor / Cientista de Dados</td>\n",
       "      <td>SulAmérica</td>\n",
       "      <td>São Paulo, São Paulo, Brazil</td>\n",
       "      <td>1 week ago</td>\n",
       "      <td>A SulAmérica há mais de 129 anos se dedica a e...</td>\n",
       "      <td>NaN</td>\n",
       "      <td>On-site/Hybrid</td>\n",
       "      <td>https://www.linkedin.com/jobs-guest/jobs/api/j...</td>\n",
       "      <td>2025-06-23</td>\n",
       "    </tr>\n",
       "    <tr>\n",
       "      <th>1</th>\n",
       "      <td>Data Scientist I</td>\n",
       "      <td>Banco Bradesco</td>\n",
       "      <td>Osasco, São Paulo, Brazil</td>\n",
       "      <td>1 week ago</td>\n",
       "      <td>Sobre o BradescoO Bradesco é um dos maiores gr...</td>\n",
       "      <td>NaN</td>\n",
       "      <td>On-site/Hybrid</td>\n",
       "      <td>https://www.linkedin.com/jobs-guest/jobs/api/j...</td>\n",
       "      <td>2025-06-23</td>\n",
       "    </tr>\n",
       "    <tr>\n",
       "      <th>2</th>\n",
       "      <td>Cientista de dados</td>\n",
       "      <td>SulAmérica</td>\n",
       "      <td>São Paulo, São Paulo, Brazil</td>\n",
       "      <td>1 week ago</td>\n",
       "      <td>Para o match perfeito acontecer precisa de PES...</td>\n",
       "      <td>NaN</td>\n",
       "      <td>On-site/Hybrid</td>\n",
       "      <td>https://www.linkedin.com/jobs-guest/jobs/api/j...</td>\n",
       "      <td>2025-06-23</td>\n",
       "    </tr>\n",
       "    <tr>\n",
       "      <th>3</th>\n",
       "      <td>Estágio em Cientista de Dados - Vaga afirmativ...</td>\n",
       "      <td>Artefact</td>\n",
       "      <td>São Paulo, São Paulo, Brazil</td>\n",
       "      <td>3 days ago</td>\n",
       "      <td>A abertura atual é para a Artefact do Brasil, ...</td>\n",
       "      <td>NaN</td>\n",
       "      <td>On-site/Hybrid</td>\n",
       "      <td>https://www.linkedin.com/jobs-guest/jobs/api/j...</td>\n",
       "      <td>2025-06-23</td>\n",
       "    </tr>\n",
       "    <tr>\n",
       "      <th>4</th>\n",
       "      <td>Data Scientist | Business Development</td>\n",
       "      <td>Shopee</td>\n",
       "      <td>São Paulo, São Paulo, Brazil</td>\n",
       "      <td>2 weeks ago</td>\n",
       "      <td>About The TeamSobre a ShôAqui na Shô, acredita...</td>\n",
       "      <td>NaN</td>\n",
       "      <td>On-site/Hybrid</td>\n",
       "      <td>https://www.linkedin.com/jobs-guest/jobs/api/j...</td>\n",
       "      <td>2025-06-23</td>\n",
       "    </tr>\n",
       "  </tbody>\n",
       "</table>\n",
       "</div>"
      ],
      "text/plain": [
       "                                               title         company  \\\n",
       "0                     Consultor / Cientista de Dados      SulAmérica   \n",
       "1                                   Data Scientist I  Banco Bradesco   \n",
       "2                                 Cientista de dados      SulAmérica   \n",
       "3  Estágio em Cientista de Dados - Vaga afirmativ...        Artefact   \n",
       "4              Data Scientist | Business Development          Shopee   \n",
       "\n",
       "                       location       posted  \\\n",
       "0  São Paulo, São Paulo, Brazil   1 week ago   \n",
       "1     Osasco, São Paulo, Brazil   1 week ago   \n",
       "2  São Paulo, São Paulo, Brazil   1 week ago   \n",
       "3  São Paulo, São Paulo, Brazil   3 days ago   \n",
       "4  São Paulo, São Paulo, Brazil  2 weeks ago   \n",
       "\n",
       "                                         description  applicants  \\\n",
       "0  A SulAmérica há mais de 129 anos se dedica a e...         NaN   \n",
       "1  Sobre o BradescoO Bradesco é um dos maiores gr...         NaN   \n",
       "2  Para o match perfeito acontecer precisa de PES...         NaN   \n",
       "3  A abertura atual é para a Artefact do Brasil, ...         NaN   \n",
       "4  About The TeamSobre a ShôAqui na Shô, acredita...         NaN   \n",
       "\n",
       "        work_mode                                               link  \\\n",
       "0  On-site/Hybrid  https://www.linkedin.com/jobs-guest/jobs/api/j...   \n",
       "1  On-site/Hybrid  https://www.linkedin.com/jobs-guest/jobs/api/j...   \n",
       "2  On-site/Hybrid  https://www.linkedin.com/jobs-guest/jobs/api/j...   \n",
       "3  On-site/Hybrid  https://www.linkedin.com/jobs-guest/jobs/api/j...   \n",
       "4  On-site/Hybrid  https://www.linkedin.com/jobs-guest/jobs/api/j...   \n",
       "\n",
       "  data_coleta  \n",
       "0  2025-06-23  \n",
       "1  2025-06-23  \n",
       "2  2025-06-23  \n",
       "3  2025-06-23  \n",
       "4  2025-06-23  "
      ]
     },
     "execution_count": 2,
     "metadata": {},
     "output_type": "execute_result"
    }
   ],
   "source": [
    "file_path = os.path.join(\"..\", \"data\",\"raw\", \"linkedin_datascience_jobs.csv\")\n",
    "df = pd.read_csv(file_path, encoding=\"utf-8-sig\")\n",
    "df.head()"
   ]
  },
  {
   "cell_type": "code",
   "execution_count": 3,
   "id": "b6bff533-4982-44f7-85d9-35b8f36dca09",
   "metadata": {},
   "outputs": [],
   "source": [
    "nlp = spacy.load(\"pt_core_news_sm\")"
   ]
  },
  {
   "cell_type": "code",
   "execution_count": 4,
   "id": "876d3755-55f2-48ed-b96c-454b27bdcf25",
   "metadata": {},
   "outputs": [],
   "source": [
    "def preprocess(text):\n",
    "    doc = nlp(text.lower())\n",
    "    tokens = [t.lemma_ for t in doc if not t.is_stop and t.is_alpha and len(t) > 2]\n",
    "    return \" \".join(tokens)"
   ]
  },
  {
   "cell_type": "code",
   "execution_count": 5,
   "id": "73f578c6-4b0a-4cb1-bf7e-be4490426243",
   "metadata": {},
   "outputs": [],
   "source": [
    "df[\"titulo_descr\"] = df[\"title\"].fillna(\"\") + \" \" + df[\"description\"].fillna(\"\")"
   ]
  },
  {
   "cell_type": "code",
   "execution_count": 6,
   "id": "88aea4ea-83a9-4388-aba8-3d0f5a56257f",
   "metadata": {},
   "outputs": [],
   "source": [
    "df[\"titulo_descr_clean\"] = df[\"titulo_descr\"].apply(preprocess)"
   ]
  },
  {
   "cell_type": "code",
   "execution_count": 7,
   "id": "85a73c95-0497-45c8-9869-8066dc833bc0",
   "metadata": {},
   "outputs": [
    {
     "name": "stderr",
     "output_type": "stream",
     "text": [
      "[nltk_data] Downloading package stopwords to\n",
      "[nltk_data]     C:\\Users\\renan\\AppData\\Roaming\\nltk_data...\n",
      "[nltk_data]   Package stopwords is already up-to-date!\n"
     ]
    }
   ],
   "source": [
    "# Adicionar palavras excluídas \n",
    "nltk.download('stopwords')\n",
    "stopwords_pt = stopwords.words('portuguese')\n",
    "stopwords_en = stopwords.words('english')"
   ]
  },
  {
   "cell_type": "code",
   "execution_count": 8,
   "id": "55b6a53f-d101-4262-b12a-6b4265a5fdda",
   "metadata": {},
   "outputs": [],
   "source": [
    "stopwords_extras =['vaga', 'nós', 'estar', 'será', 'todos', 'das', 'sempre', 'will', 'etc', 'fazer', 'aos', 'ano', 'os', 'até', 'suas', 'ser', 'além', 'pessoa', 'cada', 'à', 'todas', 'são', 'não', 'nos', 'sua', 'nossos', 'sobre', 'utilizando', 'nossa', 'onde', 'dia', 'todo', 'a', 'de', 'e', 'para', 'em', 'da', 'atividades', 'principais', 'do', 'somos', 'um', 'é', 'está', 'busca', 'buscando', 'dados', 'que', 'o', 'nosso', 'na', 'como', 'você', 'trabalhar', 'ou', 'mais','ao','seu','por','toda','less', 'more', 'Show', 'se', 'uma', 'dos', 'estamos', 'moreShow', 'você', 'deficiência', 'disability', 'odontológico', 'saúde', 'nossas', 'Entrevista', 'anos','parte','pelo', 'Desconto', 'aqui']"
   ]
  },
  {
   "cell_type": "code",
   "execution_count": 9,
   "id": "8447c5bd-cb32-4e7e-9248-94afd7ee0d19",
   "metadata": {},
   "outputs": [],
   "source": [
    "vectorizer = TfidfVectorizer(\n",
    "    max_features=1000,\n",
    "    stop_words=stopwords_pt + stopwords_en + stopwords_extras,\n",
    "    ngram_range=(1, 2),\n",
    "    lowercase=True,\n",
    "    min_df=3,\n",
    "    max_df=0.85\n",
    ")"
   ]
  },
  {
   "cell_type": "code",
   "execution_count": 10,
   "id": "d820326e-709c-488b-9ea0-a66058ff4b30",
   "metadata": {},
   "outputs": [
    {
     "name": "stderr",
     "output_type": "stream",
     "text": [
      "C:\\Users\\renan\\anaconda3\\Lib\\site-packages\\sklearn\\feature_extraction\\text.py:402: UserWarning: Your stop_words may be inconsistent with your preprocessing. Tokenizing the stop words generated tokens ['desconto', 'entrevista', 'moreshow', 'show'] not in stop_words.\n",
      "  warnings.warn(\n"
     ]
    }
   ],
   "source": [
    "X_tfidf = vectorizer.fit_transform(df[\"titulo_descr_clean\"])"
   ]
  },
  {
   "cell_type": "code",
   "execution_count": 11,
   "id": "72c46158-5286-4eaa-b6f4-3b5076e89bc4",
   "metadata": {},
   "outputs": [
    {
     "name": "stderr",
     "output_type": "stream",
     "text": [
      "C:\\Users\\renan\\anaconda3\\Lib\\site-packages\\sklearn\\utils\\deprecation.py:132: FutureWarning: 'force_all_finite' was renamed to 'ensure_all_finite' in 1.6 and will be removed in 1.8.\n",
      "  warnings.warn(\n",
      "C:\\Users\\renan\\anaconda3\\Lib\\site-packages\\umap\\umap_.py:1952: UserWarning: n_jobs value 1 overridden to 1 by setting random_state. Use no seed for parallelism.\n",
      "  warn(\n"
     ]
    }
   ],
   "source": [
    "reducer = umap.UMAP(n_neighbors=15, min_dist=0.1, metric=\"cosine\", random_state=42)\n",
    "X_umap = reducer.fit_transform(X_tfidf)"
   ]
  },
  {
   "cell_type": "code",
   "execution_count": 12,
   "id": "61c55291-fb19-4fed-afbf-4b85eeaa0f7a",
   "metadata": {},
   "outputs": [],
   "source": [
    "n_clusters = 5  \n",
    "\n",
    "kmeans = KMeans(n_clusters=n_clusters, random_state=42, n_init='auto')\n",
    "kmeans.fit(X_tfidf)\n",
    "\n",
    "# Atribui os clusters ao DataFrame\n",
    "df[\"cluster\"] = kmeans.fit_predict(X_umap)"
   ]
  },
  {
   "cell_type": "code",
   "execution_count": 13,
   "id": "69e9fffd-5639-4481-aa1e-891e5e425f44",
   "metadata": {},
   "outputs": [
    {
     "data": {
      "image/png": "[encoded data removed]",
      "text/plain": [
       "<Figure size 640x480 with 1 Axes>"
      ]
     },
     "metadata": {},
     "output_type": "display_data"
    }
   ],
   "source": [
    "sns.countplot(x=\"cluster\", data=df, palette=\"Set2\")\n",
    "plt.title(\"Distribuição de Vagas por Cluster\")\n",
    "plt.xlabel(\"Cluster\")\n",
    "plt.ylabel(\"Número de Vagas\")\n",
    "plt.show()"
   ]
  },
  {
   "cell_type": "code",
   "execution_count": 15,
   "id": "d631769b-94db-47de-b5c2-82688ad472b0",
   "metadata": {},
   "outputs": [
    {
     "name": "stdout",
     "output_type": "stream",
     "text": [
      "Silhouette Score: 0.472\n"
     ]
    },
    {
     "data": {
      "image/png": "[encoded data removed]",
      "text/plain": [
       "<Figure size 800x600 with 1 Axes>"
      ]
     },
     "metadata": {},
     "output_type": "display_data"
    }
   ],
   "source": [
    "score = silhouette_score(X_umap, df[\"cluster\"])\n",
    "print(f\"Silhouette Score: {score:.3f}\")\n",
    "\n",
    "plt.figure(figsize=(8, 6))\n",
    "sns.scatterplot(x=X_umap[:, 0], y=X_umap[:, 1], hue=df[\"cluster\"], palette=\"Set2\", legend='full')\n",
    "plt.title(\"Clusters - UMAP + KMeans\")\n",
    "plt.show()"
   ]
  },
  {
   "cell_type": "code",
   "execution_count": 16,
   "id": "8481ff5b-be10-4d1d-9f7b-66696c2ec343",
   "metadata": {},
   "outputs": [
    {
     "name": "stdout",
     "output_type": "stream",
     "text": [
      "\n",
      " - Cluster 0\n",
      "['Data Scientist | Business Development', 'Data Scientist Consultant', 'Data Scientist Specialist']\n",
      "\n",
      " - Cluster 1\n",
      "['Data Scientist, Marketing', 'Intern - Data Scientist, Curves', 'Data Scientist - Fluent English']\n",
      "\n",
      " - Cluster 2\n",
      "['Estágio em Cientista de Dados - Vaga afirmativa para pessoas LGBTQIAPN+', 'Pessoa Cientista de Dados - Vaga afirmativa para mulheres cis e trans', 'Cientista de Dados Pleno | CRM']\n",
      "\n",
      " - Cluster 3\n",
      "['Cientista de dados', 'Cientista de dados', 'Cientista de Dados em People Analytics']\n",
      "\n",
      " - Cluster 4\n",
      "['Consultor / Cientista de Dados', 'Data Scientist I', 'Cientista de dados']\n"
     ]
    }
   ],
   "source": [
    "for i in range(n_clusters):\n",
    "    print(f\"\\n - Cluster {i}\")\n",
    "    print(df[df[\"cluster\"] == i][\"title\"].head(3).tolist())"
   ]
  },
  {
   "cell_type": "code",
   "execution_count": 17,
   "id": "f339192b-6d97-4a4c-aefb-a45c361d29f6",
   "metadata": {},
   "outputs": [],
   "source": [
    "# Obter os nomes das palavras (features) do TF-IDF\n",
    "terms = vectorizer.get_feature_names_out()"
   ]
  },
  {
   "cell_type": "code",
   "execution_count": 18,
   "id": "e9d78f74-5322-4afc-a9a9-dc3e3c188363",
   "metadata": {},
   "outputs": [],
   "source": [
    "# Para cada cluster, exibir os termos com maior média de TF-IDF\n",
    "def top_terms_per_cluster(tfidf_matrix, labels, terms, n_terms=10):\n",
    "    df_tfidf = pd.DataFrame(tfidf_matrix.toarray(), columns=terms)\n",
    "    df_tfidf[\"cluster\"] = labels\n",
    "\n",
    "    top_terms = {}\n",
    "    for cluster in sorted(df_tfidf[\"cluster\"].unique()):\n",
    "        mean_tfidf = df_tfidf[df_tfidf[\"cluster\"] == cluster].mean().drop(\"cluster\")\n",
    "        top_words = mean_tfidf.sort_values(ascending=False).head(n_terms).index.tolist()\n",
    "        top_terms[cluster] = top_words\n",
    "        print(f\"\\n - Cluster {cluster} - Top termos:\")\n",
    "        print(\", \".join(top_words))\n",
    "    \n",
    "    return top_terms"
   ]
  },
  {
   "cell_type": "code",
   "execution_count": 19,
   "id": "ee78a7e8-cb39-42f3-8a18-786b8d445233",
   "metadata": {},
   "outputs": [
    {
     "name": "stdout",
     "output_type": "stream",
     "text": [
      "\n",
      " - Cluster 0 - Top termos:\n",
      "solução, modelo, dado, bom, infraestrutura, garantir, time, machine, learning, área\n",
      "\n",
      " - Cluster 1 - Top termos:\n",
      "data, team, work, customer, science, marketing, business, experience, thi, products\n",
      "\n",
      " - Cluster 2 - Top termos:\n",
      "dado, equipe, solução, construção, perfis, juntar, negócio, parceiro, deploy, cliente\n",
      "\n",
      " - Cluster 3 - Top termos:\n",
      "dado, cientista, conhecimento, cientista dado, ferramenta, análise, estatístico, experiência, analítico, base\n",
      "\n",
      " - Cluster 4 - Top termos:\n",
      "dado, modelo, fraude, profissional, risco, financeiro, produto, serviço, prevenção, empresa\n"
     ]
    }
   ],
   "source": [
    "top_terms = top_terms_per_cluster(X_tfidf, df[\"cluster\"], terms)"
   ]
  },
  {
   "cell_type": "code",
   "execution_count": 20,
   "id": "74ab64f1-3f52-4cce-ba4f-73838052176f",
   "metadata": {},
   "outputs": [
    {
     "name": "stdout",
     "output_type": "stream",
     "text": [
      "Dados salvos em '..\\data\\processed\\vagas_com_clusters.csv'\n"
     ]
    }
   ],
   "source": [
    "# Salvar os clusters\n",
    "file_path = os.path.join(\"..\", \"data\",\"processed\", \"vagas_com_clusters.csv\")\n",
    "df.to_csv(file_path, index=False, encoding=\"utf-8-sig\")\n",
    "print(f\"Dados salvos em '{file_path}'\")"
   ]
  },
  {
   "cell_type": "code",
   "execution_count": 21,
   "id": "9816a269-dce9-45f1-8982-5cd1936a86d6",
   "metadata": {},
   "outputs": [],
   "source": [
    "# Converter os valores do array numpy em top_terms para string arquivo json\n",
    "top_terms_fixed = {str(k): v for k, v in top_terms.items()}"
   ]
  },
  {
   "cell_type": "code",
   "execution_count": 22,
   "id": "11a8555b-976e-4a46-af11-ecaa0c6c38b6",
   "metadata": {},
   "outputs": [],
   "source": [
    "# Salvar em JSON para elaboração do dashboard\n",
    "json_path = os.path.join(\"..\", \"data\", \"top_terms.json\")\n",
    "with open(json_path, \"w\", encoding=\"utf-8\") as f:\n",
    "    json.dump(top_terms_fixed, f, ensure_ascii=False, indent=4)"
   ]
  },
  {
   "cell_type": "code",
   "execution_count": null,
   "id": "635f60ae-7d37-47c0-82b1-8a011ea42843",
   "metadata": {},
   "outputs": [],
   "source": []
  }
 ],
 "metadata": {
  "kernelspec": {
   "display_name": "Python 3 (ipykernel)",
   "language": "python",
   "name": "python3"
  },
  "language_info": {
   "codemirror_mode": {
    "name": "ipython",
    "version": 3
   },
   "file_extension": ".py",
   "mimetype": "text/x-python",
   "name": "python",
   "nbconvert_exporter": "python",
   "pygments_lexer": "ipython3",
   "version": "3.12.4"
  }
 },
 "nbformat": 4,
 "nbformat_minor": 5
}
